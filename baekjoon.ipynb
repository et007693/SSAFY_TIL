{
 "cells": [
  {
   "cell_type": "code",
   "execution_count": 1,
   "metadata": {},
   "outputs": [
    {
     "name": "stdout",
     "output_type": "stream",
     "text": [
      "[7, 9, 11, 13, 15]\n"
     ]
    }
   ],
   "source": [
    "def add_arrays(arr1, arr2):\n",
    "    if len(arr1) != len(arr2):\n",
    "        raise ValueError(\"두 배열의 길이가 동일해야 합니다.\")\n",
    "    return [x + y for x, y in zip(arr1, arr2)]\n",
    "\n",
    "# 예시\n",
    "array1 = [1, 2, 3, 4, 5]\n",
    "array2 = [6, 7, 8, 9, 10]\n",
    "result = add_arrays(array1, array2)\n",
    "print(result)  # 출력: [7, 9, 11, 13, 15]"
   ]
  },
  {
   "cell_type": "code",
   "execution_count": 2,
   "metadata": {},
   "outputs": [
    {
     "name": "stdout",
     "output_type": "stream",
     "text": [
      "[0, 1, 2]\n",
      "[1, 2, 3]\n",
      "[2, 3, 4]\n"
     ]
    }
   ],
   "source": [
    "a = [i for i in range(8)]\n",
    "for j in range(3):\n",
    "    print(a[j:j+3])"
   ]
  },
  {
   "cell_type": "code",
   "execution_count": 4,
   "metadata": {},
   "outputs": [
    {
     "name": "stdout",
     "output_type": "stream",
     "text": [
      "9\n"
     ]
    }
   ],
   "source": [
    "# # 나무 타이쿤\n",
    "# n, m = map(int, input().split())\n",
    "# tree = [list(map(int, input().split())) for _ in range(n)]\n",
    "# tree = list(reversed(tree))\n",
    "# result = 0\n",
    "#\n",
    "# dx = [0, 1, 1, 0, -1, -1, -1, 0, 1]\n",
    "# dy = [0, 0, 1, 1, 1, 0, -1, -1, -1]\n",
    "#\n",
    "# def plus(x, y):\n",
    "#     # 성장 +1\n",
    "#     for i in range(4):\n",
    "#         mx = x + dx[i]\n",
    "#         my = y + dy[i]\n",
    "#         if 0 <= mx < n and 0 <= my < n:\n",
    "#             tree[my][mx] += 1\n",
    "#             tree_bool[my][mx] = 1\n",
    "#\n",
    "# def nutrition_cnt(x, y):\n",
    "#     plus(x,y)\n",
    "#     print(tree)\n",
    "#     for i in range(4):\n",
    "#         mx = x + dx[i]\n",
    "#         my = y + dy[i]\n",
    "#         if 0 <= mx < n and 0 <= my < n:\n",
    "#             # 대각선 나무만큼 성장\n",
    "#             for x2, y2 in [[-1,1],[-1,-1],[1,1],[1,-1]]:\n",
    "#                 mx2 = mx + x2\n",
    "#                 my2 = my + y2\n",
    "#                 if 0 <= mx2 < n and 0 <= my2 < n and tree[my2][mx2] >= 1:\n",
    "#                     tree_cnt[my2][mx2] += 1\n",
    "#\n",
    "# def cut():\n",
    "#     new = []\n",
    "#     # 높이 2 이상 cut\n",
    "#     for y in range(n):\n",
    "#         for x in range(n):\n",
    "#             if tree_bool[y][x] != 1 and tree[y][x] >= 2:\n",
    "#                 tree[y][x] -= 2\n",
    "#                 nutrition_cnt(x,y)\n",
    "#\n",
    "# def nutrition_sum():\n",
    "#     for i in range(n):\n",
    "#         for j in range(n):\n",
    "#             tree[i][j] = tree[i][j] + tree_cnt[i][j]\n",
    "#\n",
    "# for _ in range(m):\n",
    "#     tree_bool = [[0] * n for _ in range(n)]\n",
    "#     tree_cnt = [[0] * n for _ in range(n)]\n",
    "#\n",
    "#     x, y = 0, 0\n",
    "#     d, p = map(int, input().split())\n",
    "#\n",
    "#     x = (x + (p * dx[d])) % n\n",
    "#     y = (y + (p * dy[d])) % n\n",
    "#\n",
    "#     # 키우고 -> 대각선 -> 합\n",
    "#     nutrition_cnt(x, y)\n",
    "#     nutrition_sum()\n",
    "#     print(tree)\n",
    "#     tree_cnt = [[0] * n for _ in range(n)]\n",
    "#\n",
    "#     # 자르고 영양제\n",
    "#     cut()\n",
    "#     # print(tree)\n",
    "#     nutrition_sum()\n",
    "#     # print(tree)\n",
    "#     tree_cnt = [[0] * n for _ in range(n)]\n",
    "#\n",
    "# for t in tree:\n",
    "#     result += sum(t)\n",
    "#\n",
    "# print(result)\n",
    "\n",
    "# T = int(input())\n",
    "#\n",
    "# for tc in range(T):\n",
    "#     n, m = map(int, input().split())\n",
    "#     code = [input() for _ in range(n)]\n",
    "#     num = [13, 25, 19, 61, 35, 49, 47, 59, 55, 11]\n",
    "#     pwd = []\n",
    "#     v_n = 0\n",
    "#     result = 0\n",
    "#\n",
    "#     for y in range(n):\n",
    "#         for x in range(m-6):\n",
    "#             if int(code[y][x:x+7], 2) in num:\n",
    "#                 start = (x,y)\n",
    "#                 break\n",
    "#\n",
    "#     for i in range(start[0], start[0]+56, 7):\n",
    "#         pwd.append(code[start[1]][i:i+7])\n",
    "#\n",
    "#     for p in range(8):\n",
    "#         try:\n",
    "#             value = num.index(int(pwd[p], 2))\n",
    "#         except:\n",
    "#             print(pwd)\n",
    "#             print(int(pwd[p], 2))\n",
    "#         if p % 2 == 0:\n",
    "#             v_n += value * 3\n",
    "#         else:\n",
    "#             v_n += value\n",
    "#         result += value\n",
    "#\n",
    "#     # print(pwd)\n",
    "#     # print(v_n)\n",
    "#     # print(result)\n",
    "#\n",
    "#\n",
    "#     if v_n % 10 == 0:\n",
    "#         print(f'#{tc+1} {result}')\n",
    "#     else:\n",
    "#         print(f'#{tc+1} 0')\n",
    "\n",
    "# T = int(input())\n",
    "# \n",
    "# for tc in range(T):\n",
    "#     n = int(input())\n",
    "#     paper = [list(map(int, input().split())) for _ in range(n)]\n",
    "#     color = [[0]*n for _ in range(n)]\n",
    "# \n",
    "#     for p in range(n):\n",
    "#         for y in range(100):\n",
    "#             for x in range(100):\n",
    "#                 if paper[p][-1] == 1:\n",
    "#                     color[y][x] = 1\n",
    "#                 else:\n",
    "#                     color[y][x] = 2\n"
   ]
  },
  {
   "cell_type": "code",
   "execution_count": 10,
   "metadata": {},
   "outputs": [
    {
     "name": "stdout",
     "output_type": "stream",
     "text": [
      "-5\n"
     ]
    }
   ],
   "source": []
  },
  {
   "cell_type": "code",
   "execution_count": 12,
   "metadata": {},
   "outputs": [
    {
     "name": "stdout",
     "output_type": "stream",
     "text": [
      "0.1\n"
     ]
    }
   ],
   "source": [
    "s = 0.1\n",
    "\n",
    "print(f'{s}')"
   ]
  }
 ],
 "metadata": {
  "kernelspec": {
   "display_name": "Python 3",
   "language": "python",
   "name": "python3"
  },
  "language_info": {
   "codemirror_mode": {
    "name": "ipython",
    "version": 3
   },
   "file_extension": ".py",
   "mimetype": "text/x-python",
   "name": "python",
   "nbconvert_exporter": "python",
   "pygments_lexer": "ipython3",
   "version": "3.9.13"
  }
 },
 "nbformat": 4,
 "nbformat_minor": 2
}
